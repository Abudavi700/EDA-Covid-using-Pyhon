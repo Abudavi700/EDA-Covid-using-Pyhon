{
 "cells": [
  {
   "cell_type": "code",
   "execution_count": 237,
   "id": "8d66c12c",
   "metadata": {},
   "outputs": [],
   "source": [
    "import numpy as np\n",
    "import pandas as pd\n",
    "from sklearn.model_selection import train_test_split\n",
    "from sklearn import linear_model\n",
    "from sklearn.neighbors import KNeighborsRegressor\n",
    "from sklearn.preprocessing import PolynomialFeatures\n",
    "from sklearn import metrics\n",
    "from sklearn.model_selection import cross_val_score\n",
    "import matplotlib.pyplot as plt\n",
    "import seaborn as sns\n",
    "from mpl_toolkits.mplot3d import Axes3D\n",
    "%matplotlib inline\n",
    "import warnings\n",
    "warnings.filterwarnings('ignore')"
   ]
  },
  {
   "attachments": {},
   "cell_type": "markdown",
   "id": "59393f6d",
   "metadata": {},
   "source": [
    "Install semua library"
   ]
  },
  {
   "cell_type": "markdown",
   "id": "433dcfc7",
   "metadata": {},
   "source": [
    "Data yang digunakan adalah data [House Sales in King County](https://www.kaggle.com/datasets/harlfoxem/housesalesprediction) yang diambil dari Kaggle"
   ]
  },
  {
   "cell_type": "code",
   "execution_count": 238,
   "id": "7f241556",
   "metadata": {},
   "outputs": [],
   "source": [
    "df = pd.read_csv('Data/kc_house_data.csv')"
   ]
  },
  {
   "cell_type": "code",
   "execution_count": 239,
   "id": "ca12eeb2",
   "metadata": {},
   "outputs": [],
   "source": [
    "df_dm = df.copy()"
   ]
  },
  {
   "cell_type": "code",
   "execution_count": 240,
   "id": "872e88ae",
   "metadata": {},
   "outputs": [
    {
     "data": {
      "text/html": [
       "<div>\n",
       "<style scoped>\n",
       "    .dataframe tbody tr th:only-of-type {\n",
       "        vertical-align: middle;\n",
       "    }\n",
       "\n",
       "    .dataframe tbody tr th {\n",
       "        vertical-align: top;\n",
       "    }\n",
       "\n",
       "    .dataframe thead th {\n",
       "        text-align: right;\n",
       "    }\n",
       "</style>\n",
       "<table border=\"1\" class=\"dataframe\">\n",
       "  <thead>\n",
       "    <tr style=\"text-align: right;\">\n",
       "      <th></th>\n",
       "      <th>id</th>\n",
       "      <th>date</th>\n",
       "      <th>price</th>\n",
       "      <th>bedrooms</th>\n",
       "      <th>bathrooms</th>\n",
       "      <th>sqft_living</th>\n",
       "      <th>sqft_lot</th>\n",
       "      <th>floors</th>\n",
       "      <th>waterfront</th>\n",
       "      <th>view</th>\n",
       "      <th>...</th>\n",
       "      <th>grade</th>\n",
       "      <th>sqft_above</th>\n",
       "      <th>sqft_basement</th>\n",
       "      <th>yr_built</th>\n",
       "      <th>yr_renovated</th>\n",
       "      <th>zipcode</th>\n",
       "      <th>lat</th>\n",
       "      <th>long</th>\n",
       "      <th>sqft_living15</th>\n",
       "      <th>sqft_lot15</th>\n",
       "    </tr>\n",
       "  </thead>\n",
       "  <tbody>\n",
       "    <tr>\n",
       "      <th>0</th>\n",
       "      <td>7129300520</td>\n",
       "      <td>20141013T000000</td>\n",
       "      <td>221900.0</td>\n",
       "      <td>3</td>\n",
       "      <td>1.00</td>\n",
       "      <td>1180</td>\n",
       "      <td>5650</td>\n",
       "      <td>1.0</td>\n",
       "      <td>0</td>\n",
       "      <td>0</td>\n",
       "      <td>...</td>\n",
       "      <td>7</td>\n",
       "      <td>1180</td>\n",
       "      <td>0</td>\n",
       "      <td>1955</td>\n",
       "      <td>0</td>\n",
       "      <td>98178</td>\n",
       "      <td>47.5112</td>\n",
       "      <td>-122.257</td>\n",
       "      <td>1340</td>\n",
       "      <td>5650</td>\n",
       "    </tr>\n",
       "    <tr>\n",
       "      <th>1</th>\n",
       "      <td>6414100192</td>\n",
       "      <td>20141209T000000</td>\n",
       "      <td>538000.0</td>\n",
       "      <td>3</td>\n",
       "      <td>2.25</td>\n",
       "      <td>2570</td>\n",
       "      <td>7242</td>\n",
       "      <td>2.0</td>\n",
       "      <td>0</td>\n",
       "      <td>0</td>\n",
       "      <td>...</td>\n",
       "      <td>7</td>\n",
       "      <td>2170</td>\n",
       "      <td>400</td>\n",
       "      <td>1951</td>\n",
       "      <td>1991</td>\n",
       "      <td>98125</td>\n",
       "      <td>47.7210</td>\n",
       "      <td>-122.319</td>\n",
       "      <td>1690</td>\n",
       "      <td>7639</td>\n",
       "    </tr>\n",
       "    <tr>\n",
       "      <th>2</th>\n",
       "      <td>5631500400</td>\n",
       "      <td>20150225T000000</td>\n",
       "      <td>180000.0</td>\n",
       "      <td>2</td>\n",
       "      <td>1.00</td>\n",
       "      <td>770</td>\n",
       "      <td>10000</td>\n",
       "      <td>1.0</td>\n",
       "      <td>0</td>\n",
       "      <td>0</td>\n",
       "      <td>...</td>\n",
       "      <td>6</td>\n",
       "      <td>770</td>\n",
       "      <td>0</td>\n",
       "      <td>1933</td>\n",
       "      <td>0</td>\n",
       "      <td>98028</td>\n",
       "      <td>47.7379</td>\n",
       "      <td>-122.233</td>\n",
       "      <td>2720</td>\n",
       "      <td>8062</td>\n",
       "    </tr>\n",
       "    <tr>\n",
       "      <th>3</th>\n",
       "      <td>2487200875</td>\n",
       "      <td>20141209T000000</td>\n",
       "      <td>604000.0</td>\n",
       "      <td>4</td>\n",
       "      <td>3.00</td>\n",
       "      <td>1960</td>\n",
       "      <td>5000</td>\n",
       "      <td>1.0</td>\n",
       "      <td>0</td>\n",
       "      <td>0</td>\n",
       "      <td>...</td>\n",
       "      <td>7</td>\n",
       "      <td>1050</td>\n",
       "      <td>910</td>\n",
       "      <td>1965</td>\n",
       "      <td>0</td>\n",
       "      <td>98136</td>\n",
       "      <td>47.5208</td>\n",
       "      <td>-122.393</td>\n",
       "      <td>1360</td>\n",
       "      <td>5000</td>\n",
       "    </tr>\n",
       "    <tr>\n",
       "      <th>4</th>\n",
       "      <td>1954400510</td>\n",
       "      <td>20150218T000000</td>\n",
       "      <td>510000.0</td>\n",
       "      <td>3</td>\n",
       "      <td>2.00</td>\n",
       "      <td>1680</td>\n",
       "      <td>8080</td>\n",
       "      <td>1.0</td>\n",
       "      <td>0</td>\n",
       "      <td>0</td>\n",
       "      <td>...</td>\n",
       "      <td>8</td>\n",
       "      <td>1680</td>\n",
       "      <td>0</td>\n",
       "      <td>1987</td>\n",
       "      <td>0</td>\n",
       "      <td>98074</td>\n",
       "      <td>47.6168</td>\n",
       "      <td>-122.045</td>\n",
       "      <td>1800</td>\n",
       "      <td>7503</td>\n",
       "    </tr>\n",
       "  </tbody>\n",
       "</table>\n",
       "<p>5 rows × 21 columns</p>\n",
       "</div>"
      ],
      "text/plain": [
       "           id             date     price  bedrooms  bathrooms  sqft_living  \\\n",
       "0  7129300520  20141013T000000  221900.0         3       1.00         1180   \n",
       "1  6414100192  20141209T000000  538000.0         3       2.25         2570   \n",
       "2  5631500400  20150225T000000  180000.0         2       1.00          770   \n",
       "3  2487200875  20141209T000000  604000.0         4       3.00         1960   \n",
       "4  1954400510  20150218T000000  510000.0         3       2.00         1680   \n",
       "\n",
       "   sqft_lot  floors  waterfront  view  ...  grade  sqft_above  sqft_basement  \\\n",
       "0      5650     1.0           0     0  ...      7        1180              0   \n",
       "1      7242     2.0           0     0  ...      7        2170            400   \n",
       "2     10000     1.0           0     0  ...      6         770              0   \n",
       "3      5000     1.0           0     0  ...      7        1050            910   \n",
       "4      8080     1.0           0     0  ...      8        1680              0   \n",
       "\n",
       "   yr_built  yr_renovated  zipcode      lat     long  sqft_living15  \\\n",
       "0      1955             0    98178  47.5112 -122.257           1340   \n",
       "1      1951          1991    98125  47.7210 -122.319           1690   \n",
       "2      1933             0    98028  47.7379 -122.233           2720   \n",
       "3      1965             0    98136  47.5208 -122.393           1360   \n",
       "4      1987             0    98074  47.6168 -122.045           1800   \n",
       "\n",
       "   sqft_lot15  \n",
       "0        5650  \n",
       "1        7639  \n",
       "2        8062  \n",
       "3        5000  \n",
       "4        7503  \n",
       "\n",
       "[5 rows x 21 columns]"
      ]
     },
     "execution_count": 240,
     "metadata": {},
     "output_type": "execute_result"
    }
   ],
   "source": [
    "df.head()"
   ]
  },
  {
   "cell_type": "code",
   "execution_count": 241,
   "id": "8175f155",
   "metadata": {},
   "outputs": [
    {
     "name": "stdout",
     "output_type": "stream",
     "text": [
      "<class 'pandas.core.frame.DataFrame'>\n",
      "RangeIndex: 21613 entries, 0 to 21612\n",
      "Data columns (total 21 columns):\n",
      " #   Column         Non-Null Count  Dtype  \n",
      "---  ------         --------------  -----  \n",
      " 0   id             21613 non-null  int64  \n",
      " 1   date           21613 non-null  object \n",
      " 2   price          21613 non-null  float64\n",
      " 3   bedrooms       21613 non-null  int64  \n",
      " 4   bathrooms      21613 non-null  float64\n",
      " 5   sqft_living    21613 non-null  int64  \n",
      " 6   sqft_lot       21613 non-null  int64  \n",
      " 7   floors         21613 non-null  float64\n",
      " 8   waterfront     21613 non-null  int64  \n",
      " 9   view           21613 non-null  int64  \n",
      " 10  condition      21613 non-null  int64  \n",
      " 11  grade          21613 non-null  int64  \n",
      " 12  sqft_above     21613 non-null  int64  \n",
      " 13  sqft_basement  21613 non-null  int64  \n",
      " 14  yr_built       21613 non-null  int64  \n",
      " 15  yr_renovated   21613 non-null  int64  \n",
      " 16  zipcode        21613 non-null  int64  \n",
      " 17  lat            21613 non-null  float64\n",
      " 18  long           21613 non-null  float64\n",
      " 19  sqft_living15  21613 non-null  int64  \n",
      " 20  sqft_lot15     21613 non-null  int64  \n",
      "dtypes: float64(5), int64(15), object(1)\n",
      "memory usage: 3.5+ MB\n"
     ]
    }
   ],
   "source": [
    "df.info()"
   ]
  },
  {
   "attachments": {},
   "cell_type": "markdown",
   "id": "b8ec350a",
   "metadata": {},
   "source": [
    "# Mengecek Korelasi dengan Correlation Matrix\n"
   ]
  },
  {
   "cell_type": "code",
   "execution_count": 242,
   "id": "5ff5b99c",
   "metadata": {},
   "outputs": [
    {
     "data": {
      "image/png": "[encoded data removed]",
      "text/plain": [
       "<Figure size 1152x864 with 2 Axes>"
      ]
     },
     "metadata": {
      "needs_background": "light"
     },
     "output_type": "display_data"
    }
   ],
   "source": [
    "features = ['price', 'bedrooms', 'bathrooms', 'sqft_living', 'sqft_lot', 'floors', 'waterfront', \n",
    "            'view', 'condition', 'grade', 'sqft_above', 'sqft_basement', 'yr_built', 'yr_renovated', \n",
    "            'zipcode', 'lat', 'long', 'sqft_living15', 'sqft_lot15']\n",
    "\n",
    "mask = np.zeros_like(df[features].corr(), dtype=np.bool)\n",
    "mask[np.triu_indices_from(mask)] = True\n",
    "\n",
    "f, ax = plt.subplots(figsize=(16, 12))\n",
    "plt.title('Pearson Correlation Matrix', fontsize=25)\n",
    "\n",
    "sns.heatmap(df[features].corr(), linewidths=0.25, vmax=0.7, square=True, cmap=\"BuGn\", #\"BuGn_r\" to reverse\n",
    "           linecolor='w', annot=True, annot_kws={\"size\":8}, mask=mask, cbar_kws={\"shrink\": .9});"
   ]
  },
  {
   "attachments": {},
   "cell_type": "markdown",
   "id": "46df1332",
   "metadata": {},
   "source": [
    "# Data Preprocessing"
   ]
  },
  {
   "cell_type": "code",
   "execution_count": 243,
   "id": "29154f1e",
   "metadata": {},
   "outputs": [
    {
     "data": {
      "text/html": [
       "<div>\n",
       "<style scoped>\n",
       "    .dataframe tbody tr th:only-of-type {\n",
       "        vertical-align: middle;\n",
       "    }\n",
       "\n",
       "    .dataframe tbody tr th {\n",
       "        vertical-align: top;\n",
       "    }\n",
       "\n",
       "    .dataframe thead th {\n",
       "        text-align: right;\n",
       "    }\n",
       "</style>\n",
       "<table border=\"1\" class=\"dataframe\">\n",
       "  <thead>\n",
       "    <tr style=\"text-align: right;\">\n",
       "      <th></th>\n",
       "      <th>ID</th>\n",
       "      <th>City_Bandung</th>\n",
       "      <th>City_Jakarta</th>\n",
       "      <th>City_Jayapura</th>\n",
       "      <th>City_Makassar</th>\n",
       "      <th>City_Medan</th>\n",
       "      <th>City_Pontianak</th>\n",
       "      <th>City_Surabaya</th>\n",
       "      <th>Animal_Cat</th>\n",
       "      <th>Animal_Dog</th>\n",
       "      <th>Animal_Rabbit</th>\n",
       "    </tr>\n",
       "  </thead>\n",
       "  <tbody>\n",
       "    <tr>\n",
       "      <th>0</th>\n",
       "      <td>100</td>\n",
       "      <td>0</td>\n",
       "      <td>1</td>\n",
       "      <td>0</td>\n",
       "      <td>0</td>\n",
       "      <td>0</td>\n",
       "      <td>0</td>\n",
       "      <td>0</td>\n",
       "      <td>0</td>\n",
       "      <td>1</td>\n",
       "      <td>0</td>\n",
       "    </tr>\n",
       "    <tr>\n",
       "      <th>1</th>\n",
       "      <td>101</td>\n",
       "      <td>1</td>\n",
       "      <td>0</td>\n",
       "      <td>0</td>\n",
       "      <td>0</td>\n",
       "      <td>0</td>\n",
       "      <td>0</td>\n",
       "      <td>0</td>\n",
       "      <td>1</td>\n",
       "      <td>0</td>\n",
       "      <td>0</td>\n",
       "    </tr>\n",
       "    <tr>\n",
       "      <th>2</th>\n",
       "      <td>102</td>\n",
       "      <td>0</td>\n",
       "      <td>0</td>\n",
       "      <td>0</td>\n",
       "      <td>0</td>\n",
       "      <td>0</td>\n",
       "      <td>0</td>\n",
       "      <td>1</td>\n",
       "      <td>0</td>\n",
       "      <td>0</td>\n",
       "      <td>1</td>\n",
       "    </tr>\n",
       "    <tr>\n",
       "      <th>3</th>\n",
       "      <td>103</td>\n",
       "      <td>0</td>\n",
       "      <td>0</td>\n",
       "      <td>0</td>\n",
       "      <td>0</td>\n",
       "      <td>0</td>\n",
       "      <td>1</td>\n",
       "      <td>0</td>\n",
       "      <td>0</td>\n",
       "      <td>1</td>\n",
       "      <td>0</td>\n",
       "    </tr>\n",
       "    <tr>\n",
       "      <th>4</th>\n",
       "      <td>104</td>\n",
       "      <td>0</td>\n",
       "      <td>0</td>\n",
       "      <td>0</td>\n",
       "      <td>0</td>\n",
       "      <td>1</td>\n",
       "      <td>0</td>\n",
       "      <td>0</td>\n",
       "      <td>1</td>\n",
       "      <td>0</td>\n",
       "      <td>0</td>\n",
       "    </tr>\n",
       "    <tr>\n",
       "      <th>5</th>\n",
       "      <td>105</td>\n",
       "      <td>0</td>\n",
       "      <td>0</td>\n",
       "      <td>0</td>\n",
       "      <td>1</td>\n",
       "      <td>0</td>\n",
       "      <td>0</td>\n",
       "      <td>0</td>\n",
       "      <td>0</td>\n",
       "      <td>0</td>\n",
       "      <td>1</td>\n",
       "    </tr>\n",
       "    <tr>\n",
       "      <th>6</th>\n",
       "      <td>106</td>\n",
       "      <td>0</td>\n",
       "      <td>0</td>\n",
       "      <td>1</td>\n",
       "      <td>0</td>\n",
       "      <td>0</td>\n",
       "      <td>0</td>\n",
       "      <td>0</td>\n",
       "      <td>1</td>\n",
       "      <td>0</td>\n",
       "      <td>0</td>\n",
       "    </tr>\n",
       "  </tbody>\n",
       "</table>\n",
       "</div>"
      ],
      "text/plain": [
       "    ID  City_Bandung  City_Jakarta  City_Jayapura  City_Makassar  City_Medan  \\\n",
       "0  100             0             1              0              0           0   \n",
       "1  101             1             0              0              0           0   \n",
       "2  102             0             0              0              0           0   \n",
       "3  103             0             0              0              0           0   \n",
       "4  104             0             0              0              0           1   \n",
       "5  105             0             0              0              1           0   \n",
       "6  106             0             0              1              0           0   \n",
       "\n",
       "   City_Pontianak  City_Surabaya  Animal_Cat  Animal_Dog  Animal_Rabbit  \n",
       "0               0              0           0           1              0  \n",
       "1               0              0           1           0              0  \n",
       "2               0              1           0           0              1  \n",
       "3               1              0           0           1              0  \n",
       "4               0              0           1           0              0  \n",
       "5               0              0           0           0              1  \n",
       "6               0              0           1           0              0  "
      ]
     },
     "execution_count": 243,
     "metadata": {},
     "output_type": "execute_result"
    }
   ],
   "source": [
    "city_id = [100, 101, 102, 103, 104, 105, 106]\n",
    "city_name = ['Jakarta', 'Bandung', 'Surabaya', 'Pontianak', 'Medan', 'Makassar', 'Jayapura']\n",
    "animal = ['Dog', 'Cat', 'Rabbit', 'Dog', 'Cat', 'Rabbit', 'Cat']\n",
    "data = pd.DataFrame(list(zip(city_id, city_name, animal)), columns=['ID', 'City', 'Animal'])\n",
    "\n",
    "data = pd.get_dummies(data, columns=['City', 'Animal'])\n",
    "data\n",
    "\n",
    "# city_id = [100, 101, 102, 103, 104, 105, 106]\n",
    "# city_name = ['Jakarta', 'Bandung', 'Surabaya', 'Pontianak', 'Medan', 'Makassar', 'Jayapura']\n",
    "# df = pd.DataFrame(list(zip(city_id, city_name)), columns=['ID', 'City'])\n",
    "# df"
   ]
  },
  {
   "cell_type": "code",
   "execution_count": 244,
   "id": "1fe34ec0",
   "metadata": {},
   "outputs": [],
   "source": [
    "#Mengambil komponen tahun dari kolom 'date'\n",
    "df_dm['sales_yr']=df_dm['date'].astype(str).str[:4]\n",
    "\n",
    "#Menambahkan kolom baru \"age\", yaitu tahun rumah dijual - tahun dibangun \n",
    "df_dm['age'] = df_dm['sales_yr'].astype(int)-df['yr_built'].astype(int)\n",
    "\n",
    "#Menambahkan kolom baru berupa umur renovasi yaitu sejak renovasi hingga rumah dijual\n",
    "df_dm['age_rnv'] = 0\n",
    "df_dm['age_rnv'] = df_dm['sales_yr'][df_dm['yr_renovated']!=0].astype(int) - df_dm['yr_renovated'][df_dm['yr_renovated']!=0].astype(int)\n",
    "df_dm['age_rnv'][df_dm['age_rnv'].isnull()] = 0\n",
    "\n",
    "#Membagi 'age' ke dalam beberapa range\n",
    "bins = [-2, 0, 5, 10, 25, 50, 75, 100, 100000]\n",
    "labels = ['<1', '1-5', '6-10', '11-25', '26-50', '51-75', '76-100', '>100']\n",
    "df_dm['age_binned'] = pd.cut(df_dm['age'], bins=bins, labels=labels)\n",
    "\n",
    "#Membagi 'age_rnv' ke dalam beberapa range\n",
    "bins = [-2, 0, 5, 10, 25, 50, 75, 100000]\n",
    "labels = ['<1', '1-5', '6-10', '11-25', '26-50', '51-75', '>75']\n",
    "df_dm['age_rnv_binned'] = pd.cut(df_dm['age_rnv'], bins=bins, labels=labels)"
   ]
  },
  {
   "cell_type": "code",
   "execution_count": 245,
   "id": "a70b0dd3",
   "metadata": {},
   "outputs": [
    {
     "data": {
      "text/plain": [
       "[Text(0.5, 0, 'Renovation Age')]"
      ]
     },
     "execution_count": 245,
     "metadata": {},
     "output_type": "execute_result"
    },
    {
     "data": {
      "image/png": "[encoded data removed]",
      "text/plain": [
       "<Figure size 1080x360 with 2 Axes>"
      ]
     },
     "metadata": {
      "needs_background": "light"
     },
     "output_type": "display_data"
    }
   ],
   "source": [
    "f, axes = plt.subplots(1, 2, figsize=(15,5))\n",
    "p1 = sns.countplot(df_dm['age_binned'], ax=axes[0])\n",
    "for p in p1.patches:\n",
    "    height = p.get_height()\n",
    "    p1.text(p.get_x()+p.get_width()/2, height+50, height, ha=\"center\")\n",
    "p2 = sns.countplot(df_dm['age_rnv_binned'], ax=axes[1])\n",
    "sns.despine(right=True, bottom=True)\n",
    "for p in p2.patches:\n",
    "    height = p.get_height()\n",
    "    p2.text(p.get_x()+p.get_width()/2, height+200, height, ha=\"center\")\n",
    "\n",
    "axes[0].set(xlabel='Age')\n",
    "axes[0].yaxis.tick_left()\n",
    "axes[1].yaxis.set_label_position('right')\n",
    "axes[1].yaxis.tick_right()\n",
    "axes[1].set(xlabel='Renovation Age')"
   ]
  },
  {
   "cell_type": "code",
   "execution_count": 246,
   "id": "4047b392",
   "metadata": {},
   "outputs": [],
   "source": [
    "#transform factor value agar dapat digunakan (one-hot encoding untuk kolom age_binned dan age_rnv_binned)\n",
    "df_dm = pd.get_dummies(df_dm, columns=['age_binned', 'age_rnv_binned'])"
   ]
  },
  {
   "cell_type": "code",
   "execution_count": 247,
   "id": "8b6d652b",
   "metadata": {},
   "outputs": [],
   "source": [
    "#Membuat fitur baru yaitu proporsi dari squarefoot living dan squarefoot lot terhadap 15 rumah di terdekat\n",
    "df_dm['sqft_living_prop'] = df_dm['sqft_living']/df_dm['sqft_living15']\n",
    "df_dm['sqft_lot_prop'] = df_dm['sqft_lot']/df_dm['sqft_lot15']"
   ]
  },
  {
   "cell_type": "markdown",
   "id": "9170e237",
   "metadata": {},
   "source": [
    "Setelah itu, split data menjadi train dan test dengan proporsi 8:2"
   ]
  },
  {
   "cell_type": "code",
   "execution_count": 248,
   "id": "a7bb9d54",
   "metadata": {},
   "outputs": [],
   "source": [
    "train_data, test_data = train_test_split(df, train_size=0.8, random_state=3)\n",
    "train_data_dm, test_data_dm = train_test_split(df_dm, train_size=0.8, random_state=3)"
   ]
  },
  {
   "cell_type": "markdown",
   "id": "71505450",
   "metadata": {},
   "source": [
    "# Membangun Model\n",
    "Dalam Proyek ini akan digunakan beberapa model yaitu ..... yang kemudian akan dibandingkan seluruh metricsnya untuk mengetaui mana model yang terbaik dalam menjawab permasalahan."
   ]
  },
  {
   "cell_type": "code",
   "execution_count": 249,
   "id": "edaa517e",
   "metadata": {},
   "outputs": [],
   "source": [
    "#list untuk evaluation metrics\n",
    "evaluation = pd.DataFrame({'Model': [],\n",
    "                          'Details': [],\n",
    "                          'Root Mean Squared Error (RMSE)': [],\n",
    "                          'R-squared (Training)': [],\n",
    "                          'Adjusted R-squared (Training)': [],\n",
    "                          'R-squared (Test)': [],\n",
    "                          'Adjusted R-squared (Test)': [],\n",
    "                          'S-Fold Cross Validation': []})"
   ]
  },
  {
   "cell_type": "markdown",
   "id": "40ee6558",
   "metadata": {},
   "source": [
    "## 1. Model simple linear regression"
   ]
  },
  {
   "cell_type": "code",
   "execution_count": 250,
   "id": "da99687a",
   "metadata": {},
   "outputs": [],
   "source": [
    "lr = linear_model.LinearRegression()"
   ]
  },
  {
   "cell_type": "markdown",
   "id": "557e5ea6",
   "metadata": {},
   "source": [
    "Konvert data ke dalam bentuk array terlebih dahulu, karena akan dilakukan terhadap satu data (kolom) saja dalam pandas dataframe"
   ]
  },
  {
   "cell_type": "code",
   "execution_count": 251,
   "id": "7c7daeed",
   "metadata": {},
   "outputs": [
    {
     "data": {
      "text/plain": [
       "LinearRegression()"
      ]
     },
     "execution_count": 251,
     "metadata": {},
     "output_type": "execute_result"
    }
   ],
   "source": [
    "X_train = np.array(train_data['sqft_living'], dtype=pd.Series).reshape(-1,1)\n",
    "y_train = np.array(train_data['price'], dtype=pd.Series)\n",
    "\n",
    "lr.fit(x_train, y_train)"
   ]
  },
  {
   "cell_type": "code",
   "execution_count": 252,
   "id": "2ab52fb6",
   "metadata": {},
   "outputs": [],
   "source": [
    "X_test = np.array(test_data['sqft_living'], dtype=pd.Series).reshape(-1,1)\n",
    "y_test = np.array(test_data['price'], dtype=pd.Series)\n",
    "\n",
    "pred = lr.predict(X_test)\n",
    "\n",
    "rmsesm = float(format(np.sqrt(metrics.mean_squared_error(y_test, pred)), '.3f'))\n",
    "rtrsm = float(format(lr.score(X_train, y_train), '.3f'))\n",
    "rtesm = float(format(lr.score(X_train, y_train), '.3f'))\n",
    "cv = float(format(cross_val_score(lr, df[['sqft_living']], df['price'], cv=5).mean(), '.3f'))\n",
    "\n",
    "r = evaluation.shape[0]\n",
    "evaluation.loc[r] = [\"Simple Linear Regression\", '-' , rmsesm, rtrsm, '-', rtesm, '-', cv]"
   ]
  },
  {
   "cell_type": "code",
   "execution_count": 253,
   "id": "daad4f87",
   "metadata": {},
   "outputs": [
    {
     "data": {
      "text/html": [
       "<div>\n",
       "<style scoped>\n",
       "    .dataframe tbody tr th:only-of-type {\n",
       "        vertical-align: middle;\n",
       "    }\n",
       "\n",
       "    .dataframe tbody tr th {\n",
       "        vertical-align: top;\n",
       "    }\n",
       "\n",
       "    .dataframe thead th {\n",
       "        text-align: right;\n",
       "    }\n",
       "</style>\n",
       "<table border=\"1\" class=\"dataframe\">\n",
       "  <thead>\n",
       "    <tr style=\"text-align: right;\">\n",
       "      <th></th>\n",
       "      <th>Model</th>\n",
       "      <th>Details</th>\n",
       "      <th>Root Mean Squared Error (RMSE)</th>\n",
       "      <th>R-squared (Training)</th>\n",
       "      <th>Adjusted R-squared (Training)</th>\n",
       "      <th>R-squared (Test)</th>\n",
       "      <th>Adjusted R-squared (Test)</th>\n",
       "      <th>S-Fold Cross Validation</th>\n",
       "    </tr>\n",
       "  </thead>\n",
       "  <tbody>\n",
       "    <tr>\n",
       "      <th>0</th>\n",
       "      <td>Simple Linear Regression</td>\n",
       "      <td>-</td>\n",
       "      <td>254289.149</td>\n",
       "      <td>0.492</td>\n",
       "      <td>-</td>\n",
       "      <td>0.492</td>\n",
       "      <td>-</td>\n",
       "      <td>0.491</td>\n",
       "    </tr>\n",
       "  </tbody>\n",
       "</table>\n",
       "</div>"
      ],
      "text/plain": [
       "                      Model Details  Root Mean Squared Error (RMSE)  \\\n",
       "0  Simple Linear Regression       -                      254289.149   \n",
       "\n",
       "   R-squared (Training) Adjusted R-squared (Training)  R-squared (Test)  \\\n",
       "0                 0.492                             -             0.492   \n",
       "\n",
       "  Adjusted R-squared (Test)  S-Fold Cross Validation  \n",
       "0                         -                    0.491  "
      ]
     },
     "execution_count": 253,
     "metadata": {},
     "output_type": "execute_result"
    }
   ],
   "source": [
    "evaluation"
   ]
  },
  {
   "cell_type": "code",
   "execution_count": 254,
   "id": "bf4a649a",
   "metadata": {},
   "outputs": [
    {
     "data": {
      "image/png": "[encoded data removed]",
      "text/plain": [
       "<Figure size 468x360 with 1 Axes>"
      ]
     },
     "metadata": {
      "needs_background": "light"
     },
     "output_type": "display_data"
    }
   ],
   "source": [
    "plt.figure(figsize=(6.5,5))\n",
    "plt.scatter(X_test, y_test, color='darkgreen', label='Data', alpha=.1)\n",
    "plt.plot(X_test, pred, color='red', label='Predicted Regression Line')\n",
    "plt.xlabel('Living Space (sqft)', fontsize=15)\n",
    "plt.ylabel('Price($)', fontsize=15)\n",
    "plt.xticks(fontsize=13)\n",
    "plt.yticks(fontsize=13)\n",
    "plt.legend()\n",
    "\n",
    "plt.gca().spines['right'].set_visible(False)\n",
    "plt.gca().spines['top'].set_visible(False)"
   ]
  },
  {
   "cell_type": "markdown",
   "id": "cf1b6912",
   "metadata": {},
   "source": [
    "Dari grafik di atas, dapat disimpulkan bahwa ternyata model linier belum bisa menyerupai bentuk data yang digunakan, sehingga mungkin akan lebih baik menggunakan exponensial atau orde yang lebih tinggi"
   ]
  },
  {
   "cell_type": "code",
   "execution_count": 255,
   "id": "3dd091db",
   "metadata": {},
   "outputs": [
    {
     "data": {
      "text/plain": [
       "['bedrooms',\n",
       " 'bathrooms',\n",
       " 'sqft_living',\n",
       " 'sqft_lot',\n",
       " 'floors',\n",
       " 'waterfront',\n",
       " 'view',\n",
       " 'condition',\n",
       " 'grade',\n",
       " 'sqft_above',\n",
       " 'sqft_basement',\n",
       " 'yr_built',\n",
       " 'yr_renovated',\n",
       " 'zipcode',\n",
       " 'lat',\n",
       " 'long',\n",
       " 'sqft_living15',\n",
       " 'sqft_lot15']"
      ]
     },
     "execution_count": 255,
     "metadata": {},
     "output_type": "execute_result"
    }
   ],
   "source": [
    "features = list(df.columns)\n",
    "#Buang kolom id, price, dan date\n",
    "features = features[3:]\n",
    "features"
   ]
  },
  {
   "cell_type": "code",
   "execution_count": 264,
   "id": "036aacb5",
   "metadata": {},
   "outputs": [],
   "source": [
    "complex_model_1 = linear_model.LinearRegression()\n",
    "complex_model_1.fit(train_data[features], train_data['price'])\n",
    "\n",
    "pred_cm1 = complex_model_1.predict(test_data[features])"
   ]
  },
  {
   "cell_type": "code",
   "execution_count": 257,
   "id": "150994c4",
   "metadata": {},
   "outputs": [],
   "source": [
    "def adjustedR2(r2, n, k):\n",
    "    return r2 - (k-1)/(n-k)*(1-r2)"
   ]
  },
  {
   "cell_type": "code",
   "execution_count": 265,
   "id": "5c88197e",
   "metadata": {},
   "outputs": [],
   "source": [
    "#Root Mean Squared Error Complex Model (rmsecm)\n",
    "rmse_cm = float(format(np.sqrt(metrics.mean_squared_error(test_data['price'], pred_cm1)), '.3f'))\n",
    "r_train_cm = float(format(complex_model_1.score(train_data[features], train_data['price']), '.3f'))\n",
    "ars_train_cm = float(format(adjustedR2(complex_model_1.score(train_data[features], train_data['price']), train_data.shape[0], len(features)), '.3f'))\n",
    "r_test_cm = float(format(complex_model_1.score(test_data[features], test_data['price']), '.3f'))\n",
    "ars_test_cm = float(format(adjustedR2(complex_model_1.score(test_data[features], test_data['price']), test_data.shape[0], len(features)), '.3f'))\n",
    "cv_cm = float(format(cross_val_score(complex_model_1, df[features], df['price'], cv=5).mean(), '.3f'))\n",
    "\n",
    "r = evaluation.shape[0]\n",
    "evaluation.loc[1] = [\"Complex Linear Regression\", 'all features, no preprocessing' , rmse_cm, r_train_cm, ars_train_cm, r_test_cm, ars_test_cm, cv_cm]"
   ]
  },
  {
   "cell_type": "code",
   "execution_count": 266,
   "id": "b1c5248f",
   "metadata": {},
   "outputs": [
    {
     "data": {
      "text/html": [
       "<div>\n",
       "<style scoped>\n",
       "    .dataframe tbody tr th:only-of-type {\n",
       "        vertical-align: middle;\n",
       "    }\n",
       "\n",
       "    .dataframe tbody tr th {\n",
       "        vertical-align: top;\n",
       "    }\n",
       "\n",
       "    .dataframe thead th {\n",
       "        text-align: right;\n",
       "    }\n",
       "</style>\n",
       "<table border=\"1\" class=\"dataframe\">\n",
       "  <thead>\n",
       "    <tr style=\"text-align: right;\">\n",
       "      <th></th>\n",
       "      <th>Model</th>\n",
       "      <th>Details</th>\n",
       "      <th>Root Mean Squared Error (RMSE)</th>\n",
       "      <th>R-squared (Training)</th>\n",
       "      <th>Adjusted R-squared (Training)</th>\n",
       "      <th>R-squared (Test)</th>\n",
       "      <th>Adjusted R-squared (Test)</th>\n",
       "      <th>S-Fold Cross Validation</th>\n",
       "    </tr>\n",
       "  </thead>\n",
       "  <tbody>\n",
       "    <tr>\n",
       "      <th>0</th>\n",
       "      <td>Simple Linear Regression</td>\n",
       "      <td>-</td>\n",
       "      <td>254289.149</td>\n",
       "      <td>0.492</td>\n",
       "      <td>-</td>\n",
       "      <td>0.492</td>\n",
       "      <td>-</td>\n",
       "      <td>0.491</td>\n",
       "    </tr>\n",
       "    <tr>\n",
       "      <th>1</th>\n",
       "      <td>Complex Linear Regression</td>\n",
       "      <td>all features, no preprocessing</td>\n",
       "      <td>193693.989</td>\n",
       "      <td>0.698</td>\n",
       "      <td>0.697</td>\n",
       "      <td>0.708</td>\n",
       "      <td>0.707</td>\n",
       "      <td>0.695</td>\n",
       "    </tr>\n",
       "    <tr>\n",
       "      <th>2</th>\n",
       "      <td>Complex Linear Regression</td>\n",
       "      <td>all features, with preprocessing</td>\n",
       "      <td>193693.989</td>\n",
       "      <td>0.698</td>\n",
       "      <td>0.697</td>\n",
       "      <td>0.708</td>\n",
       "      <td>0.707</td>\n",
       "      <td>0.695</td>\n",
       "    </tr>\n",
       "  </tbody>\n",
       "</table>\n",
       "</div>"
      ],
      "text/plain": [
       "                       Model                           Details  \\\n",
       "0   Simple Linear Regression                                 -   \n",
       "1  Complex Linear Regression    all features, no preprocessing   \n",
       "2  Complex Linear Regression  all features, with preprocessing   \n",
       "\n",
       "   Root Mean Squared Error (RMSE)  R-squared (Training)  \\\n",
       "0                      254289.149                 0.492   \n",
       "1                      193693.989                 0.698   \n",
       "2                      193693.989                 0.698   \n",
       "\n",
       "  Adjusted R-squared (Training)  R-squared (Test) Adjusted R-squared (Test)  \\\n",
       "0                             -             0.492                         -   \n",
       "1                         0.697             0.708                     0.707   \n",
       "2                         0.697             0.708                     0.707   \n",
       "\n",
       "   S-Fold Cross Validation  \n",
       "0                    0.491  \n",
       "1                    0.695  \n",
       "2                    0.695  "
      ]
     },
     "execution_count": 266,
     "metadata": {},
     "output_type": "execute_result"
    }
   ],
   "source": [
    "evaluation"
   ]
  },
  {
   "cell_type": "markdown",
   "id": "2f19ea22",
   "metadata": {},
   "source": [
    "# 3. Complex Model 2\n",
    "Model yang digunakan sama dengan sebelumnya (Complex Model) namun kali ini menggunakan data yang telah dipreprocess"
   ]
  },
  {
   "cell_type": "code",
   "execution_count": 267,
   "id": "4c973867",
   "metadata": {},
   "outputs": [
    {
     "data": {
      "text/plain": [
       "['bedrooms',\n",
       " 'bathrooms',\n",
       " 'sqft_living',\n",
       " 'sqft_lot',\n",
       " 'floors',\n",
       " 'waterfront',\n",
       " 'view',\n",
       " 'condition',\n",
       " 'grade',\n",
       " 'sqft_above',\n",
       " 'sqft_basement',\n",
       " 'yr_built',\n",
       " 'yr_renovated',\n",
       " 'zipcode',\n",
       " 'lat',\n",
       " 'long',\n",
       " 'sqft_living15',\n",
       " 'sqft_lot15',\n",
       " 'sales_yr',\n",
       " 'age',\n",
       " 'age_rnv',\n",
       " 'age_binned_<1',\n",
       " 'age_binned_1-5',\n",
       " 'age_binned_6-10',\n",
       " 'age_binned_11-25',\n",
       " 'age_binned_26-50',\n",
       " 'age_binned_51-75',\n",
       " 'age_binned_76-100',\n",
       " 'age_binned_>100',\n",
       " 'age_rnv_binned_<1',\n",
       " 'age_rnv_binned_1-5',\n",
       " 'age_rnv_binned_6-10',\n",
       " 'age_rnv_binned_11-25',\n",
       " 'age_rnv_binned_26-50',\n",
       " 'age_rnv_binned_51-75',\n",
       " 'age_rnv_binned_>75',\n",
       " 'sqft_living_prop',\n",
       " 'sqft_lot_prop']"
      ]
     },
     "execution_count": 267,
     "metadata": {},
     "output_type": "execute_result"
    }
   ],
   "source": [
    "#Ekstrak featur yang ada di data hasil preprocess\n",
    "features_cm2 = list(df_dm.columns)\n",
    "features_cm2 = features_cm2[3:]\n",
    "features_cm2"
   ]
  },
  {
   "cell_type": "code",
   "execution_count": 268,
   "id": "aa9972eb",
   "metadata": {},
   "outputs": [],
   "source": [
    "#Definisikan dan train model\n",
    "complex_model_2 = linear_model.LinearRegression()\n",
    "complex_model_2.fit(train_data_dm[features_cm2], train_data_dm['price'])\n",
    "\n",
    "#predict value x_test\n",
    "pred_cm2 = complex_model_2.predict(test_data_dm[features_cm2])"
   ]
  },
  {
   "cell_type": "code",
   "execution_count": 269,
   "id": "659c400b",
   "metadata": {},
   "outputs": [],
   "source": [
    "#ambil semua metrics\n",
    "rmse_cm2 = float(format(np.sqrt(metrics.mean_squared_error(test_data_dm['price'], pred_cm2)), '.3f'))\n",
    "r_train_cm2 = float(format(complex_model_2.score(train_data_dm[features_cm2], train_data_dm['price']), '.3f'))\n",
    "ars_train_cm2 = float(format(adjustedR2(complex_model_2.score(train_data_dm[features_cm2], train_data_dm['price']), train_data_dm.shape[0], len(features_cm2)), '.3f'))\n",
    "r_test_cm2 = float(format(complex_model_2.score(test_data_dm[features_cm2], test_data_dm['price']), '.3f'))\n",
    "ars_test_cm2 = float(format(adjustedR2(complex_model_2.score(test_data_dm[features_cm2], test_data_dm['price']), test_data_dm.shape[0], len(features)), '.3f'))\n",
    "cv_cm2 = float(format(cross_val_score(complex_model_2, df_dm[features_cm2], df_dm['price'], cv=5).mean(), '.3f'))\n",
    "\n",
    "r = evaluation.shape[0]\n",
    "evaluation.loc[2] = [\"Complex Linear Regression\", 'all features, with preprocessing' , rmse_cm2, r_train_cm2, ars_train_cm2, r_test_cm2, ars_test_cm2, cv_cm2]"
   ]
  },
  {
   "cell_type": "code",
   "execution_count": 270,
   "id": "4f303737",
   "metadata": {},
   "outputs": [
    {
     "data": {
      "text/html": [
       "<div>\n",
       "<style scoped>\n",
       "    .dataframe tbody tr th:only-of-type {\n",
       "        vertical-align: middle;\n",
       "    }\n",
       "\n",
       "    .dataframe tbody tr th {\n",
       "        vertical-align: top;\n",
       "    }\n",
       "\n",
       "    .dataframe thead th {\n",
       "        text-align: right;\n",
       "    }\n",
       "</style>\n",
       "<table border=\"1\" class=\"dataframe\">\n",
       "  <thead>\n",
       "    <tr style=\"text-align: right;\">\n",
       "      <th></th>\n",
       "      <th>Model</th>\n",
       "      <th>Details</th>\n",
       "      <th>Root Mean Squared Error (RMSE)</th>\n",
       "      <th>R-squared (Training)</th>\n",
       "      <th>Adjusted R-squared (Training)</th>\n",
       "      <th>R-squared (Test)</th>\n",
       "      <th>Adjusted R-squared (Test)</th>\n",
       "      <th>S-Fold Cross Validation</th>\n",
       "    </tr>\n",
       "  </thead>\n",
       "  <tbody>\n",
       "    <tr>\n",
       "      <th>0</th>\n",
       "      <td>Simple Linear Regression</td>\n",
       "      <td>-</td>\n",
       "      <td>254289.149</td>\n",
       "      <td>0.492</td>\n",
       "      <td>-</td>\n",
       "      <td>0.492</td>\n",
       "      <td>-</td>\n",
       "      <td>0.491</td>\n",
       "    </tr>\n",
       "    <tr>\n",
       "      <th>1</th>\n",
       "      <td>Complex Linear Regression</td>\n",
       "      <td>all features, no preprocessing</td>\n",
       "      <td>193693.989</td>\n",
       "      <td>0.698</td>\n",
       "      <td>0.697</td>\n",
       "      <td>0.708</td>\n",
       "      <td>0.707</td>\n",
       "      <td>0.695</td>\n",
       "    </tr>\n",
       "    <tr>\n",
       "      <th>2</th>\n",
       "      <td>Complex Linear Regression</td>\n",
       "      <td>all features, with preprocessing</td>\n",
       "      <td>188519.082</td>\n",
       "      <td>0.714</td>\n",
       "      <td>0.713</td>\n",
       "      <td>0.723</td>\n",
       "      <td>0.722</td>\n",
       "      <td>0.709</td>\n",
       "    </tr>\n",
       "  </tbody>\n",
       "</table>\n",
       "</div>"
      ],
      "text/plain": [
       "                       Model                           Details  \\\n",
       "0   Simple Linear Regression                                 -   \n",
       "1  Complex Linear Regression    all features, no preprocessing   \n",
       "2  Complex Linear Regression  all features, with preprocessing   \n",
       "\n",
       "   Root Mean Squared Error (RMSE)  R-squared (Training)  \\\n",
       "0                      254289.149                 0.492   \n",
       "1                      193693.989                 0.698   \n",
       "2                      188519.082                 0.714   \n",
       "\n",
       "  Adjusted R-squared (Training)  R-squared (Test) Adjusted R-squared (Test)  \\\n",
       "0                             -             0.492                         -   \n",
       "1                         0.697             0.708                     0.707   \n",
       "2                         0.713             0.723                     0.722   \n",
       "\n",
       "   S-Fold Cross Validation  \n",
       "0                    0.491  \n",
       "1                    0.695  \n",
       "2                    0.709  "
      ]
     },
     "execution_count": 270,
     "metadata": {},
     "output_type": "execute_result"
    }
   ],
   "source": [
    "evaluation"
   ]
  },
  {
   "cell_type": "code",
   "execution_count": null,
   "id": "4927e916",
   "metadata": {},
   "outputs": [],
   "source": []
  }
 ],
 "metadata": {
  "kernelspec": {
   "display_name": "Python 3",
   "language": "python",
   "name": "python3"
  },
  "language_info": {
   "codemirror_mode": {
    "name": "ipython",
    "version": 3
   },
   "file_extension": ".py",
   "mimetype": "text/x-python",
   "name": "python",
   "nbconvert_exporter": "python",
   "pygments_lexer": "ipython3",
   "version": "3.8.8"
  }
 },
 "nbformat": 4,
 "nbformat_minor": 5
}
